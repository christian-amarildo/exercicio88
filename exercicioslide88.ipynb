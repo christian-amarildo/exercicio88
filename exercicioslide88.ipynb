{
 "cells": [
  {
   "cell_type": "markdown",
   "id": "3c6ce228",
   "metadata": {
    "tags": []
   },
   "source": [
    "# exercícios do slide 88\n"
   ]
  },
  {
   "cell_type": "markdown",
   "id": "c5d65968",
   "metadata": {
    "tags": []
   },
   "source": [
    "### questão 7"
   ]
  },
  {
   "cell_type": "raw",
   "id": "347b333e-12e0-4d3a-a7cb-4cf773e458d3",
   "metadata": {},
   "source": [
    "barramento de dados:\n",
    "    o barramento de dados faz a ligação entre o registrador de dados da memória e a memória principal, para a tranferência de informações entre os dois.\n",
    "    quanto a sua direção e fluxo, esse barramento admite o fluxo bidirecional, ou seja, ora os sinais percorrem do processador para a memória ora da memória para o processador\n",
    "\n",
    "barramento de endereços:\n",
    "    interliga o registrador de endereços da mem´ria à memória principal para a tranferência dos bits que representam um determinado endereço\n",
    "    É unidirecional, sendo apenas no sentido do processador para a memória principal\n",
    "    \n",
    "barramento de controle:\n",
    "    interliga o processador à memória principal para a passagem de sinais de controle durante uma operação de leitura ou escrita.\n",
    "    é bidirecional, pois o processador pode enviar sinais para a memória principal, e a memória pode enviar sinais para o processador do tipo \"WAIT\" por exemplo"
   ]
  },
  {
   "cell_type": "markdown",
   "id": "2bcaa9e0",
   "metadata": {
    "tags": []
   },
   "source": [
    "### questão 8"
   ]
  },
  {
   "cell_type": "raw",
   "id": "a07fbba1-cf32-4407-a3b5-bb829b6225b3",
   "metadata": {},
   "source": [
    "1:O processador envia um endereço para o registrador de endereçõs da memória.\n",
    "\n",
    "2:o endereço é enviado pelo barramento de memória até a memória \n",
    "\n",
    "3:O processador envia um comando de leitura para o controlador de memória.\n",
    "\n",
    "4:o endereço é decodificado e é localizado a célula correspondente na memoria\n",
    "\n",
    "5: os dados do endereço é enviado pelo barramento de dados ate o registrador de dados da memómia"
   ]
  },
  {
   "cell_type": "markdown",
   "id": "227e8c7e",
   "metadata": {},
   "source": [
    "### questao 9"
   ]
  },
  {
   "cell_type": "raw",
   "id": "8707a4ff-3386-4d2b-937d-4aab3841cadc",
   "metadata": {},
   "source": [
    "1:O processador envia um endereço para o registrador de endereçõs da memória.\n",
    "\n",
    "2:o endereço é enviado pelo barramento de memória até a memória\n",
    "\n",
    "3: o Processador coloca no registrador de dados da memória o dado a ser transferido\n",
    "\n",
    "3:O processador aciona um comando de escrita pelo barramento de controle.\n",
    "\n",
    "4: o dado é tranferido para a célula de memória pelo barramento de dados. podendo excluir os dados anteriores da célula em questão."
   ]
  },
  {
   "cell_type": "markdown",
   "id": "592d7f63-1062-46f4-8639-2f897ee12953",
   "metadata": {},
   "source": [
    "### questão 13"
   ]
  },
  {
   "cell_type": "raw",
   "id": "bf110d01-013d-4ae3-b870-4ebdef894320",
   "metadata": {},
   "source": []
  }
 ],
 "metadata": {
  "kernelspec": {
   "display_name": "Python 3 (ipykernel)",
   "language": "python",
   "name": "python3"
  },
  "language_info": {
   "codemirror_mode": {
    "name": "ipython",
    "version": 3
   },
   "file_extension": ".py",
   "mimetype": "text/x-python",
   "name": "python",
   "nbconvert_exporter": "python",
   "pygments_lexer": "ipython3",
   "version": "3.10.9"
  }
 },
 "nbformat": 4,
 "nbformat_minor": 5
}
